{
  "nbformat": 4,
  "nbformat_minor": 0,
  "metadata": {
    "colab": {
      "name": "Clasification_Dolphins_Seahorse.ipynb",
      "provenance": [],
      "collapsed_sections": [],
      "authorship_tag": "ABX9TyMvn4KSswZn0Ubp9IdxZfSq",
      "include_colab_link": true
    },
    "kernelspec": {
      "name": "python3",
      "display_name": "Python 3"
    },
    "language_info": {
      "name": "python"
    }
  },
  "cells": [
    {
      "cell_type": "markdown",
      "metadata": {
        "id": "view-in-github",
        "colab_type": "text"
      },
      "source": [
        "<a href=\"https://colab.research.google.com/github/artthuro6/Clasification_dolphin_seahorse/blob/main/Clasification_Dolphins_Seahorse.ipynb\" target=\"_parent\"><img src=\"https://colab.research.google.com/assets/colab-badge.svg\" alt=\"Open In Colab\"/></a>"
      ]
    },
    {
      "cell_type": "markdown",
      "metadata": {
        "id": "IbqbfaPxg77b"
      },
      "source": [
        "# **Explanation**\n",
        "\n",
        "This project will create a model od Deep Learning to clasificate 2 diferente animals:\n",
        "\n",
        "- Dolphins\n",
        "- Seahorse"
      ]
    },
    {
      "cell_type": "code",
      "metadata": {
        "id": "6ZVUy-sRocfx"
      },
      "source": [
        "import pandas as pd\n"
      ],
      "execution_count": null,
      "outputs": []
    },
    {
      "cell_type": "code",
      "metadata": {
        "id": "lqkaNv-QiiGZ"
      },
      "source": [
        ""
      ],
      "execution_count": null,
      "outputs": []
    }
  ]
}